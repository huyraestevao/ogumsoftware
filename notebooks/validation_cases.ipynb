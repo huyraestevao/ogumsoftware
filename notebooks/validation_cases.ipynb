{
  "nbformat": 4,
  "nbformat_minor": 5,
  "metadata": {
    "kernelspec": {
      "name": "python3",
      "display_name": "Python 3"
    },
    "language_info": {
      "name": "python"
    }
  },
  "cells": [
    {
      "cell_type": "markdown",
      "metadata": {},
      "source": "# Validation cases\n\nThis notebook loads validation CSVs and fits the activation energy for each."
    },
    {
      "cell_type": "code",
      "metadata": {},
      "source": "from pathlib import Path\nimport pandas as pd\nimport matplotlib.pyplot as plt\n\nfrom ogum.material_calibrator import MaterialCalibrator"
    },
    {
      "cell_type": "code",
      "metadata": {},
      "source": "data_dir = Path('data/validation')\nresults = []\n\nfor csv_file in data_dir.glob('*.csv'):\n    df = pd.read_csv(csv_file)\n    ea_fit, _ = MaterialCalibrator.fit(df)\n    # Replace with the reference Ea value for this dataset\n    ea_ref = df.get('Ea_ref_kJ', pd.Series([None])).iloc[0]\n    results.append({'dataset': csv_file.stem, 'Ea_fit_kJ': ea_fit, 'Ea_ref_kJ': ea_ref})\n\nresults_df = pd.DataFrame(results)\nresults_df"
    },
    {
      "cell_type": "code",
      "metadata": {},
      "source": "fig, ax = plt.subplots()\nax.scatter(results_df['Ea_ref_kJ'], results_df['Ea_fit_kJ'])\nax.plot(results_df['Ea_ref_kJ'], results_df['Ea_ref_kJ'], 'k--', label='ideal')\nax.set_xlabel('Ea reference (kJ/mol)')\nax.set_ylabel('Ea fitted (kJ/mol)')\nax.legend()\nax.grid(True)\nplt.show()"
    }
  ]
}