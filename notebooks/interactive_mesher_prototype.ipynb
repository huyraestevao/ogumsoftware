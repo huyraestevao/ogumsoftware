{
 "nbformat": 4,
 "nbformat_minor": 2,
 "metadata": {
  "kernelspec": {
   "name": "python3",
   "display_name": "Python 3"
  },
  "language_info": {
   "name": "python"
  }
 },
 "cells": [
  {
   "cell_type": "markdown",
   "metadata": {},
   "source": "# Interactive Mesh Generator Prototype\nThis prototype uses **gmsh**, **pyvista** and **ipywidgets** to generate and visualize a 3D mesh of random spheres packed inside a cube."
  },
  {
   "cell_type": "code",
   "metadata": {},
   "source": "!pip install gmsh pyvista ipywidgets"
  },
  {
   "cell_type": "code",
   "metadata": {},
   "source": "import random\nimport tempfile\nimport gmsh\nimport pyvista as pv\nimport ipywidgets as widgets\nfrom IPython.display import display, clear_output"
  },
  {
   "cell_type": "code",
   "metadata": {},
   "source": "def generate_mesh(radius, box_size, element_size, n_spheres):\n    gmsh.initialize()\n    gmsh.model.add(\"pack\")\n    gmsh.option.setNumber(\"Mesh.CharacteristicLengthMin\", element_size)\n    gmsh.option.setNumber(\"Mesh.CharacteristicLengthMax\", element_size)\n    gmsh.model.occ.addBox(0, 0, 0, box_size, box_size, box_size, 1)\n    sphere_tags = []\n    for _ in range(n_spheres):\n        x = random.uniform(radius, box_size - radius)\n        y = random.uniform(radius, box_size - radius)\n        z = random.uniform(radius, box_size - radius)\n        tag = gmsh.model.occ.addSphere(x, y, z, radius)\n        sphere_tags.append(tag)\n    gmsh.model.occ.cut([(3, 1)], [(3, t) for t in sphere_tags], removeObject=False, removeTool=True)\n    gmsh.model.occ.synchronize()\n    gmsh.model.mesh.generate(3)\n    msh_file = tempfile.mktemp(suffix=\".msh\")\n    gmsh.write(msh_file)\n    gmsh.finalize()\n    return msh_file\n\n\ndef show_mesh(path):\n    mesh = pv.read(path)\n    plotter = pv.Plotter()\n    plotter.add_mesh(mesh, show_edges=True)\n    plotter.show(jupyter_backend=\"pythreejs\")"
  },
  {
   "cell_type": "code",
   "metadata": {},
   "source": "radius_slider = widgets.FloatSlider(value=1.0, min=0.1, max=5.0, step=0.1, description='raio')\nbox_slider = widgets.FloatSlider(value=5.0, min=1.0, max=10.0, step=0.5, description='caixa')\nsize_slider = widgets.FloatSlider(value=0.5, min=0.1, max=2.0, step=0.1, description='elemento')\nnum_dropdown = widgets.Dropdown(options=[1, 2, 3, 5, 10], value=3, description='esferas')\noutput = widgets.Output()\n\ndef update(_=None):\n    with output:\n        clear_output(wait=True)\n        path = generate_mesh(radius_slider.value, box_slider.value, size_slider.value, num_dropdown.value)\n        show_mesh(path)\n\nfor w in (radius_slider, box_slider, size_slider, num_dropdown):\n    w.observe(update, names='value')\n\ndisplay(radius_slider, box_slider, size_slider, num_dropdown, output)\nupdate()"
  }
 ]
}
