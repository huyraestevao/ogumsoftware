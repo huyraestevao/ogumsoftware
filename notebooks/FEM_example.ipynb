{
 "nbformat": 4,
 "nbformat_minor": 2,
 "metadata": {
  "kernelspec": {
   "name": "python3",
   "display_name": "Python 3"
  },
  "language_info": {
   "name": "python"
  }
 },
 "cells": [
  {
   "cell_type": "markdown",
   "metadata": {},
   "source": "# Exemplo simples de FEM com Ogum"
  },
  {
   "cell_type": "markdown",
   "metadata": {},
   "source": "Este notebook demonstra como gerar uma malha unitaria, simular a densifica\u00e7\u00e3o e visualizar o resultado."
  },
  {
   "cell_type": "code",
   "metadata": {},
   "execution_count": null,
   "outputs": [],
   "source": [
    "from ogum.fem_interface import create_unit_mesh, densify_mesh\n",
    "import numpy as np\n",
    "import matplotlib.pyplot as plt\n",
    "import pyvista as pv\n"
   ]
  },
  {
   "cell_type": "markdown",
   "metadata": {},
   "source": "## Gera\u00e7\u00e3o da malha"
  },
  {
   "cell_type": "code",
   "metadata": {},
   "execution_count": null,
   "outputs": [],
   "source": [
    "mesh = create_unit_mesh(0.2)\n"
   ]
  },
  {
   "cell_type": "markdown",
   "metadata": {},
   "source": "## Hist\u00f3rico de temperatura"
  },
  {
   "cell_type": "code",
   "metadata": {},
   "execution_count": null,
   "outputs": [],
   "source": [
    "times = np.linspace(0, 60 * 60, num=61)\n",
    "temps = np.linspace(25, 1500, num=61)\n",
    "temperature_history = list(zip(times, temps))\n"
   ]
  },
  {
   "cell_type": "markdown",
   "metadata": {},
   "source": "## Execu\u00e7\u00e3o da simula\u00e7\u00e3o"
  },
  {
   "cell_type": "code",
   "metadata": {},
   "execution_count": null,
   "outputs": [],
   "source": [
    "densities = densify_mesh(mesh, temperature_history, solver_options={'Ea': 3.1e5, 'A': 1e6, 'n': 1.5})\n"
   ]
  },
  {
   "cell_type": "markdown",
   "metadata": {},
   "source": "## Visualiza\u00e7\u00e3o 3D com PyVista"
  },
  {
   "cell_type": "code",
   "metadata": {},
   "execution_count": null,
   "outputs": [],
   "source": [
    "try:\n",
    "    from dolfinx import plot\n",
    "    cells, cell_types, geometry = plot.create_vtk_mesh(mesh, mesh.topology.dim)\n",
    "    grid = pv.UnstructuredGrid(cells, cell_types, geometry)\n",
    "    grid.cell_data['density'] = densities\n",
    "    pv.set_plot_theme('document')\n",
    "    plotter = pv.Plotter()\n",
    "    plotter.add_mesh(grid, scalars='density', cmap='viridis', show_edges=True)\n",
    "    plotter.add_scalar_bar('Density')\n",
    "    plotter.show()\n",
    "except Exception as exc:\n",
    "    print('Falha no PyVista:', exc)\n",
    "    triangles = mesh.topology.connectivity(mesh.topology.dim, 0).array.reshape(-1, 3)\n",
    "    x = mesh.geometry.x[:, 0]\n",
    "    y = mesh.geometry.x[:, 1]\n",
    "    plt.tripcolor(x, y, triangles, densities, cmap='viridis', shading='flat')\n",
    "    plt.colorbar(label='Density')\n",
    "    plt.xlabel('x')\n",
    "    plt.ylabel('y')\n",
    "    plt.gca().set_aspect('equal')\n",
    "    plt.show()\n"
   ]
  }
 ]
}